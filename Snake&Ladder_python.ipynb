{
  "nbformat": 4,
  "nbformat_minor": 0,
  "metadata": {
    "colab": {
      "name": "snakeAndLadderAssignment_1.ipynb",
      "provenance": [],
      "collapsed_sections": []
    },
    "kernelspec": {
      "name": "python3",
      "display_name": "Python 3"
    }
  },
  "cells": [
    {
      "cell_type": "code",
      "metadata": {
        "id": "wfqfDTU6K3rc"
      },
      "source": [
        "import time\r\n",
        "import random"
      ],
      "execution_count": null,
      "outputs": []
    },
    {
      "cell_type": "code",
      "metadata": {
        "id": "zVaLXwX6MSVc"
      },
      "source": [
        "# snake takes you down from 'key' to 'value'\r\n",
        "snakes = {17: 7, 54: 34, 62: 19, 98: 79}\r\n",
        "\r\n",
        "# ladder takes you up from 'key' to 'value'\r\n",
        "ladders = {3: 38, 24: 33, 42: 93, 72: 84}"
      ],
      "execution_count": null,
      "outputs": []
    },
    {
      "cell_type": "code",
      "metadata": {
        "id": "CwD1huNUMVd1"
      },
      "source": [
        "def welcome_msg():\r\n",
        "    msg = \"##### Welcome to Snake and Ladder Game #####\"\r\n",
        "    print(msg)\r\n"
      ],
      "execution_count": null,
      "outputs": []
    },
    {
      "cell_type": "code",
      "metadata": {
        "id": "v5pSO5YNMZG8"
      },
      "source": [
        "def get_player_names():\r\n",
        "    player1_name = None\r\n",
        "    while not player1_name:\r\n",
        "        player1_name = input(\"Enter the name of first player: \").strip()\r\n",
        "\r\n",
        "    player2_name = None\r\n",
        "    while not player2_name:\r\n",
        "        player2_name = input(\"Enter the name of second player: \").strip()\r\n",
        "\r\n",
        "    return player1_name, player2_name\r\n"
      ],
      "execution_count": null,
      "outputs": []
    },
    {
      "cell_type": "code",
      "metadata": {
        "id": "cZhCTa6tMc2X"
      },
      "source": [
        "def manual_mode():\r\n",
        "    while True:\r\n",
        "        x = int(input(\"Enter any no between 1 and 20\"))\r\n",
        "        if x >= 1 & x <= 20:\r\n",
        "            return x\r\n",
        "        else:\r\n",
        "            print(\"Enter no in valid range\")\r\n"
      ],
      "execution_count": null,
      "outputs": []
    },
    {
      "cell_type": "code",
      "metadata": {
        "id": "XpHC0vjuMf4L"
      },
      "source": [
        "def get_dice_value():\r\n",
        "    time.sleep(1)\r\n",
        "    dice_value = random.randint(1, 6)\r\n",
        "    print(\"You got a \" + str(dice_value))\r\n",
        "    return dice_value\r\n"
      ],
      "execution_count": null,
      "outputs": []
    },
    {
      "cell_type": "code",
      "metadata": {
        "id": "GEqdsNGxMiow"
      },
      "source": [
        "def got_snake_bite(old_value, current_value, player_name):\r\n",
        "    print(\"\\n\" + \"SNAKE BITE ~~~~~~~~>\")\r\n",
        "    print(\"\\n\" + player_name + \" got a snake bite. Down from \" + str(old_value) + \" to \" + str(current_value))\r\n"
      ],
      "execution_count": null,
      "outputs": []
    },
    {
      "cell_type": "code",
      "metadata": {
        "id": "qM70udEnMlkK"
      },
      "source": [
        "def got_ladder_jump(old_value, current_value, player_name):\r\n",
        "    print(\"\\n\" + \"LADDER JUMP ########\")\r\n",
        "    print(\"\\n\" + player_name + \" climbed the ladder from \" + str(old_value) + \" to \" + str(current_value))\r\n"
      ],
      "execution_count": null,
      "outputs": []
    },
    {
      "cell_type": "code",
      "metadata": {
        "id": "vgcy2PQ_Ms9k"
      },
      "source": [
        "def snake_ladder(player_name, current_value, dice_value):\r\n",
        "    time.sleep(1)\r\n",
        "    old_value = current_value\r\n",
        "    current_value = current_value + dice_value\r\n",
        "\r\n",
        "    if current_value > 100:\r\n",
        "        print(\"You need \" + str(100 - old_value) + \" to win this game. Keep trying.\")\r\n",
        "        return old_value\r\n",
        "\r\n",
        "    print(\"\\n\" + player_name + \" moved from \" + str(old_value) + \" to \" + str(current_value))\r\n",
        "    if current_value in snakes:\r\n",
        "        final_value = snakes.get(current_value)\r\n",
        "        got_snake_bite(current_value, final_value, player_name)\r\n",
        "\r\n",
        "    elif current_value in ladders:\r\n",
        "        final_value = ladders.get(current_value)\r\n",
        "        got_ladder_jump(current_value, final_value, player_name)\r\n",
        "\r\n",
        "    else:\r\n",
        "        final_value = current_value\r\n",
        "\r\n",
        "    return final_value\r\n"
      ],
      "execution_count": null,
      "outputs": []
    },
    {
      "cell_type": "code",
      "metadata": {
        "id": "5-MK7gWSMtwV"
      },
      "source": [
        "def check_win(player_name, position):\r\n",
        "    time.sleep(1)\r\n",
        "    if 100 == position:\r\n",
        "        print(\"Congratulations \" + player_name + \" won the game.\")\r\n",
        "        print(\"##### Game successfully finished #####\")\r\n",
        "        sys.exit(1)\r\n"
      ],
      "execution_count": null,
      "outputs": []
    },
    {
      "cell_type": "code",
      "metadata": {
        "id": "t3zwzi5yNFUV"
      },
      "source": [
        "def auto_mode_enabled(p1_name, p2_name, p1_curr_pos, p2_curr_pos):\r\n",
        "    while True:\r\n",
        "        time.sleep(1)\r\n",
        "        input_1 = input(\"\\n\" + p1_name + \": \" + \"Press R to roll dice & Q to quit:\")\r\n",
        "        if input_1 == 'Q' or input_1 == 'q':\r\n",
        "            print(\"Game Quit Successful\")\r\n",
        "            print(p2_name + \" won the game!\")\r\n",
        "            break\r\n",
        "\r\n",
        "        print(\"\\nRolling dice...\")\r\n",
        "        dice_value = get_dice_value()\r\n",
        "        time.sleep(1)\r\n",
        "        print(p1_name + \" moving....\")\r\n",
        "        p1_curr_pos = snake_ladder(p1_name, p1_curr_pos, dice_value)\r\n",
        "\r\n",
        "        check_win(p1_name, p1_curr_pos)\r\n",
        "\r\n",
        "        input_2 = input(\"\\n\" + p2_name + \": \"  + \"Press R to roll dice & Q to quit:\")\r\n",
        "        if input_2 == 'Q' or input_2 == 'q':\r\n",
        "            print(\"Game Quit Successful\")\r\n",
        "            print(p1_name + \" won the game!\")\r\n",
        "            break\r\n",
        "\r\n",
        "        print(\"\\nRolling dice...\")\r\n",
        "        dice_value = get_dice_value()\r\n",
        "        time.sleep(1)\r\n",
        "        print(p2_name + \" moving....\")\r\n",
        "        p2_curr_pos = snake_ladder(p2_name, p2_curr_pos, dice_value)\r\n",
        "\r\n",
        "        check_win(p2_name, p2_curr_pos)"
      ],
      "execution_count": null,
      "outputs": []
    },
    {
      "cell_type": "code",
      "metadata": {
        "id": "vJdZmIUqNVBK"
      },
      "source": [
        "def manual_mode_enabled(p1_name, p2_name, p1_curr_pos, p2_curr_pos):\r\n",
        "    while True:\r\n",
        "        time.sleep(1)\r\n",
        "        input_1 = input(\"\\n\" + p1_name + \": \" + \"Press R to roll dice & Q to quit:\")\r\n",
        "        if input_1 == 'Q' or input_1 == 'q':\r\n",
        "            print(\"Game Quit Successful\")\r\n",
        "            print(p2_name + \" won the game!\")\r\n",
        "            break\r\n",
        "\r\n",
        "        dice_value = manual_mode()\r\n",
        "        print(\"\\nRolling dice...\")\r\n",
        "        time.sleep(1)\r\n",
        "        print(p1_name + \" moving....\")\r\n",
        "        p1_curr_pos = snake_ladder(p1_name, p1_curr_pos, dice_value)\r\n",
        "\r\n",
        "        check_win(p1_name, p1_curr_pos)\r\n",
        "\r\n",
        "        input_2 = input(\"\\n\" + p2_name + \": \" + \"Press R to roll dice & Q to quit:\")\r\n",
        "        if input_2 == 'Q' or input_2 == 'q':\r\n",
        "            print(\"Game Quit Successful\")\r\n",
        "            print(p1_name + \" won the game!\")\r\n",
        "            break\r\n",
        "\r\n",
        "        dice_value = manual_mode()\r\n",
        "        print(\"\\nRolling dice...\")\r\n",
        "        time.sleep(1)\r\n",
        "        print(p2_name + \" moving....\")\r\n",
        "        p2_curr_pos = snake_ladder(p2_name, p2_curr_pos, dice_value)\r\n",
        "\r\n",
        "        check_win(p2_name, p2_curr_pos)"
      ],
      "execution_count": null,
      "outputs": []
    },
    {
      "cell_type": "code",
      "metadata": {
        "colab": {
          "base_uri": "https://localhost:8080/"
        },
        "id": "PAMALw_UMxHd",
        "outputId": "7f8ea036-d168-483c-f73f-8352397fd716"
      },
      "source": [
        "def start():\r\n",
        "    welcome_msg()\r\n",
        "    time.sleep(1)\r\n",
        "    p1_name, p2_name = get_player_names()\r\n",
        "    time.sleep(1)\r\n",
        "\r\n",
        "    p1_curr_pos = 0\r\n",
        "    p2_curr_pos = 0\r\n",
        "\r\n",
        "    game_mode = int(input(\"Press 1 to play in Auto mode and 2 to play in manual mode: \"))\r\n",
        "    if game_mode == 1:\r\n",
        "        auto_mode_enabled(p1_name, p2_name, p1_curr_pos, p2_curr_pos)\r\n",
        "    else:\r\n",
        "        manual_mode_enabled(p1_name, p2_name, p1_curr_pos, p2_curr_pos)\r\n",
        "\r\n",
        "\r\n",
        "if __name__ == \"__main__\":\r\n",
        "    start()"
      ],
      "execution_count": null,
      "outputs": [
        {
          "output_type": "stream",
          "text": [
            "##### Welcome to Snake and Ladder Game #####\n",
            "Enter the name of first player: nikhil\n",
            "Enter the name of second player: ritik\n",
            "Press 1 to play in Auto mode and 2 to play in manual mode: 1\n",
            "\n",
            "nikhil: Press R to roll dice & Q to quit:R\n",
            "\n",
            "Rolling dice...\n",
            "You got a 4\n",
            "nikhil moving....\n",
            "\n",
            "nikhil moved from 0 to 4\n",
            "\n",
            "ritik: Press R to roll dice & Q to quit:q\n",
            "Game Quit Successful\n",
            "nikhil won the game!\n"
          ],
          "name": "stdout"
        }
      ]
    }
  ]
}